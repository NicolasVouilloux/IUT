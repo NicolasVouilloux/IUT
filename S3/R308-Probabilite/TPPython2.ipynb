{
 "cells": [
  {
   "cell_type": "markdown",
   "id": "8a321692-221c-4b04-ab79-66b9650947fb",
   "metadata": {},
   "source": [
    "# TP Python 2 - Chaine de Markov"
   ]
  },
  {
   "cell_type": "markdown",
   "id": "c102119b-4b70-4f0a-bdba-4d56706a137c",
   "metadata": {},
   "source": [
    "Import :"
   ]
  },
  {
   "cell_type": "code",
   "execution_count": 227,
   "id": "12723f81-aa28-48ca-8d7d-714c5f4a9dfd",
   "metadata": {},
   "outputs": [],
   "source": [
    "import numpy as np\n",
    "import random\n",
    "import matplotlib.pyplot as plt"
   ]
  },
  {
   "cell_type": "markdown",
   "id": "d6fc5e78-677b-42cc-8bc7-edff449365c3",
   "metadata": {},
   "source": [
    "### Exercice 1 :"
   ]
  },
  {
   "cell_type": "markdown",
   "id": "5f9e0870-0e15-4dea-8cd7-303cee90f026",
   "metadata": {},
   "source": [
    "Ecrire une fonction matrice_stochastique qui prend une matrice en argu-\n",
    "ment, vérifie qu’elle est stochastique et retourne True ou False selon qu’elle est ou non\n",
    "stochastique."
   ]
  },
  {
   "cell_type": "code",
   "execution_count": 114,
   "id": "dea45c97-fa88-477b-890b-fb3c25526eea",
   "metadata": {},
   "outputs": [
    {
     "name": "stdout",
     "output_type": "stream",
     "text": [
      "True True False\n"
     ]
    }
   ],
   "source": [
    "def matrice_stochastique(mat):\n",
    "    for i in range (len(mat)):\n",
    "        sommeCol = 0;\n",
    "        for j in range (len(mat[i])):\n",
    "            if (mat[j][i]>=0):\n",
    "                sommeCol += mat[j][i]\n",
    "            else :\n",
    "                return False\n",
    "        if (sommeCol != 1):\n",
    "            return False\n",
    "    return True\n",
    "\n",
    "P1 = np.array([[0.5, 0.5],\n",
    "               [0.5, 0.5]])\n",
    "P2 = np.array([[1, 0],\n",
    "               [0, 1]])\n",
    "P3 = np.array([[0.8, 0.2],\n",
    "               [0.4, 0.6]])\n",
    "print (matrice_stochastique(P1), matrice_stochastique(P2), matrice_stochastique(P3))"
   ]
  },
  {
   "cell_type": "markdown",
   "id": "e1c40cf0-691c-46b0-8fd8-68287de68435",
   "metadata": {},
   "source": [
    "### Exercice 2 :"
   ]
  },
  {
   "cell_type": "markdown",
   "id": "f5d6a344-69d2-40e7-bfb3-7acb12c8e647",
   "metadata": {},
   "source": [
    "Écrire une fonction chaine_irreductible qui prend une matrice stochas-\n",
    "tique P en argument et retourne True ou False selon que la chaine de Markov associée\n",
    "est ou non irréductible. On ajoutera une alerte si la matrice donnée n’est pas stochastique.\n",
    "\n",
    "Pour cela, on calculera P, P2, . . . , Pn où n est le nombre d’états puis on calculera S =\n",
    "P + P2 + · · · + Pn. Si tous les coefficients de S sont strictement positifs alors la chaîne est\n",
    "irréductible. On pourra justifier ce fait."
   ]
  },
  {
   "cell_type": "code",
   "execution_count": 119,
   "id": "3e604621-757f-43be-9d38-d80d38f27c91",
   "metadata": {},
   "outputs": [
    {
     "name": "stdout",
     "output_type": "stream",
     "text": [
      "True True False\n"
     ]
    }
   ],
   "source": [
    "def chaine_irreductible(P):\n",
    "    if (not matrice_stochastique(P)):\n",
    "        raise Exception(\"Pas Stochastique\")\n",
    "    res =np.copy(P)\n",
    "    puissanceAct = np.copy(P)\n",
    "    for i in range (len(P)-1):\n",
    "        puissanceAct = np.matmul(puissanceAct,P)\n",
    "        res = np.add(res, puissanceAct)\n",
    "    for i in range (len(res)):\n",
    "        for j in range (len(res[i])):\n",
    "           if (res[i][j]<=0):\n",
    "               return False\n",
    "    return True\n",
    "    \n",
    "P4 = np.array([[0.5, 0.5],\n",
    "               [0.5, 0.5]])\n",
    "P5 = np.array([[0, 1],\n",
    "               [1, 0]])\n",
    "P6 = np.array([\n",
    "    [0.7, 0.0, 0.0],\n",
    "    [0.3, 0.5, 0.0],\n",
    "    [0.0, 0.5, 1.0]\n",
    "])\n",
    "\n",
    "print (chaine_irreductible(P4),chaine_irreductible(P5),chaine_irreductible(P6))"
   ]
  },
  {
   "cell_type": "markdown",
   "id": "edc89f4a-4afe-4836-9dff-45c9d7916ec9",
   "metadata": {},
   "source": [
    "### Exercice 3 :"
   ]
  },
  {
   "cell_type": "markdown",
   "id": "9cc24e0d-8d49-469a-be39-793a46158382",
   "metadata": {},
   "source": [
    "Ecrire une fonction Markov(P,i,n) qui simule (Xn) en partant de l’état i\n",
    "pour une matrice de transition P. Faire un test pour des matrices P vues en cours."
   ]
  },
  {
   "cell_type": "code",
   "execution_count": 223,
   "id": "a18aee40-d954-4482-ae13-1c49ab066ce1",
   "metadata": {},
   "outputs": [
    {
     "name": "stdout",
     "output_type": "stream",
     "text": [
      "1 1 2\n"
     ]
    }
   ],
   "source": [
    "def Markov(P,i,n):\n",
    "    for x in range(n):\n",
    "        r = random.random()\n",
    "        val =  0\n",
    "        for j in range(len(P[i])):\n",
    "            val += P[j][i]\n",
    "            if (val>=r):\n",
    "                i=j\n",
    "                break\n",
    "    return i\n",
    "\n",
    "print (Markov(P4,1,4),Markov(P5,0,3),Markov(P6,2,4))"
   ]
  },
  {
   "cell_type": "markdown",
   "id": "0e6e017c-d9c9-4124-a896-cacf5e8fc771",
   "metadata": {},
   "source": [
    "### Exercice 4: "
   ]
  },
  {
   "cell_type": "markdown",
   "id": "a3479dc1-97c6-48b9-a316-b4a5cb415548",
   "metadata": {},
   "source": [
    "Écrire une fonction marche_aleatoire(i,n) qui affiche avec la commande\n",
    "plot de matplotlib.pyplot une trajectoire aléatoire de longueur n en partant de i ∈ Z"
   ]
  },
  {
   "cell_type": "code",
   "execution_count": 234,
   "id": "85a2b766-7033-4a10-91cc-66ce5c21c8d9",
   "metadata": {},
   "outputs": [
    {
     "data": {
      "image/png": "[encoded data removed]",
      "text/plain": [
       "<Figure size 640x480 with 1 Axes>"
      ]
     },
     "metadata": {},
     "output_type": "display_data"
    }
   ],
   "source": [
    "def marche_aleatoire(i,n):\n",
    "    list= [i]\n",
    "    for j in range(n):\n",
    "        r = random.random()\n",
    "        if (r<=0.5):\n",
    "            i += 1\n",
    "        else:\n",
    "            i -= 1\n",
    "        list.append(i)\n",
    "    plt.plot(range(n+1),list)\n",
    "    plt.show\n",
    "\n",
    "marche_aleatoire(0,10000)"
   ]
  }
 ],
 "metadata": {
  "kernelspec": {
   "display_name": "Python 3 (ipykernel)",
   "language": "python",
   "name": "python3"
  },
  "language_info": {
   "codemirror_mode": {
    "name": "ipython",
    "version": 3
   },
   "file_extension": ".py",
   "mimetype": "text/x-python",
   "name": "python",
   "nbconvert_exporter": "python",
   "pygments_lexer": "ipython3",
   "version": "3.12.3"
  }
 },
 "nbformat": 4,
 "nbformat_minor": 5
}
