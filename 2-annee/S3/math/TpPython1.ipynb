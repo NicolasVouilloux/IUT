{
 "cells": [
  {
   "cell_type": "markdown",
   "id": "a796a736-1815-4e74-8dd5-dad95270d0b2",
   "metadata": {},
   "source": [
    "# TP Python"
   ]
  },
  {
   "cell_type": "code",
   "execution_count": 220,
   "id": "3a6992f4-bb4b-4373-b185-96116efdd137",
   "metadata": {},
   "outputs": [],
   "source": [
    "#import\n",
    "import math\n",
    "import random\n",
    "import matplotlib.pyplot as plt"
   ]
  },
  {
   "cell_type": "markdown",
   "id": "94c229fa-cd26-482c-966b-168520dc4a4b",
   "metadata": {},
   "source": [
    "## Exercice 1"
   ]
  },
  {
   "cell_type": "markdown",
   "id": "a7efea90-e927-437a-98ff-68b32d0031f3",
   "metadata": {},
   "source": [
    "1) Ecrire une fonction `bernoulli(p)` qui retourne une réalisation d'une variable de Bernoulli de paramètre p à partir de la comande `random()`"
   ]
  },
  {
   "cell_type": "code",
   "execution_count": 2,
   "id": "f5426861-80d3-4818-9900-e936931ba290",
   "metadata": {},
   "outputs": [
    {
     "data": {
      "text/plain": [
       "0"
      ]
     },
     "execution_count": 2,
     "metadata": {},
     "output_type": "execute_result"
    }
   ],
   "source": [
    "def bernoulli(p):\n",
    "    return 1 if p >= random.random() else 0\n",
    "\n",
    "bernoulli(0.5)\n",
    "        "
   ]
  },
  {
   "cell_type": "markdown",
   "id": "b328a722-5cc5-416e-bfa5-8610bb63a8cd",
   "metadata": {},
   "source": [
    "2) Ecrire une fonction `liste_bernoulli(n,p)` qui retourne une liste avec n réalisations d'une variable de Bernoulli de paramètre p."
   ]
  },
  {
   "cell_type": "code",
   "execution_count": 3,
   "id": "1ceea9dd-7242-41bb-b565-6e5c0f217e09",
   "metadata": {},
   "outputs": [
    {
     "data": {
      "text/plain": [
       "[1, 1, 0, 1, 1, 0, 1, 1, 0, 1]"
      ]
     },
     "execution_count": 3,
     "metadata": {},
     "output_type": "execute_result"
    }
   ],
   "source": [
    "def liste_bernoulli(n,p):\n",
    "    liste = []\n",
    "    for i in range(n):\n",
    "        liste.append(bernoulli(p))\n",
    "    return liste\n",
    "\n",
    "liste_bernoulli(10,0.5)"
   ]
  },
  {
   "cell_type": "markdown",
   "id": "68c8f592-86a2-4f20-a24c-d75d5100240c",
   "metadata": {},
   "source": [
    "3) Ecrire une fonction `frequence_bernoulli(n,p)` qui calcule la fréquence empirique de succès d'une variable de Bernoulli de paramètre p sur n réalisations."
   ]
  },
  {
   "cell_type": "code",
   "execution_count": 4,
   "id": "47bb8b3c-dc28-4598-93be-a377c48c2e28",
   "metadata": {},
   "outputs": [
    {
     "data": {
      "text/plain": [
       "0.5065"
      ]
     },
     "execution_count": 4,
     "metadata": {},
     "output_type": "execute_result"
    }
   ],
   "source": [
    "def frequence_bernoulli(n,p):\n",
    "    return (liste_bernoulli(n,p).count(1))/n\n",
    "\n",
    "frequence_bernoulli(2000,0.5)"
   ]
  },
  {
   "cell_type": "markdown",
   "id": "44661394-b7bf-47a7-99bc-8b0346ee5a8c",
   "metadata": {},
   "source": [
    "4) Proposer une fonction `binomiale(n,p)` pour créer une variable aléatoire binomiale de paramètre(n,p)."
   ]
  },
  {
   "cell_type": "code",
   "execution_count": 5,
   "id": "bd5e37cb-9558-4777-9459-cb87b755f5de",
   "metadata": {},
   "outputs": [
    {
     "data": {
      "text/plain": [
       "1013"
      ]
     },
     "execution_count": 5,
     "metadata": {},
     "output_type": "execute_result"
    }
   ],
   "source": [
    "def binomiale(n,p):\n",
    "    return (liste_bernoulli(n,p).count(1))\n",
    "\n",
    "binomiale(2000,0.5)"
   ]
  },
  {
   "cell_type": "markdown",
   "id": "89b55cbc-a38b-46ef-90e0-6a656b6d2614",
   "metadata": {},
   "source": [
    "5) Réaliser un histogramme sur un grand nombre m de réalisations de cette variable\n",
    "binomiale avec la commande l’histogramme de ces réalisations avec la commande\n",
    "hist de la bibliothèque `matplotlib.pyplot` que l’on chargera préalablement\n",
    "avec la commande import `matplotlib.pyplot` (Ou import `matplotlib.pyplot` as `plt` si\n",
    "on veut avoir `plt` (ou autre chose) comme raccourci)."
   ]
  },
  {
   "cell_type": "code",
   "execution_count": 6,
   "id": "65c9d21f-ee2c-48b2-b321-03dc537a50e9",
   "metadata": {},
   "outputs": [
    {
     "data": {
      "image/png": "[encoded data removed]",
      "text/plain": [
       "<Figure size 640x480 with 1 Axes>"
      ]
     },
     "metadata": {},
     "output_type": "display_data"
    }
   ],
   "source": [
    "def histo(m,n,p):\n",
    "    liste = []\n",
    "    for i in range (m):\n",
    "        liste.append(binomiale(n,p))\n",
    "    plt.hist(liste)\n",
    "    plt.show()\n",
    "\n",
    "histo(1000,20000,0.5)\n"
   ]
  },
  {
   "cell_type": "markdown",
   "id": "94cd7b78-159f-427a-86e6-fbb9dd424a6b",
   "metadata": {},
   "source": [
    "## Exercice 2 - Monty Hall"
   ]
  },
  {
   "cell_type": "markdown",
   "id": "4452529c-f9cd-4a26-b263-2255bdb96535",
   "metadata": {},
   "source": [
    "1) Écrire une fonction `strategie_conserve()` qui retourne l’issue aléatoire d’une ex-\n",
    "périence où l’on conserve la porte choisie à la première étape. Le résultat sera 1 si\n",
    "l’expérience est gagnante et 0 sinon."
   ]
  },
  {
   "cell_type": "code",
   "execution_count": 24,
   "id": "0b914993-6ef6-40fd-9bc4-1b4ae0b7491b",
   "metadata": {},
   "outputs": [
    {
     "data": {
      "text/plain": [
       "0"
      ]
     },
     "execution_count": 24,
     "metadata": {},
     "output_type": "execute_result"
    }
   ],
   "source": [
    "def strategie_conserve():\n",
    "    portes = [0,1,2]\n",
    "    voiture = random.randint(0,2)\n",
    "    choix = random.randint(0,2)\n",
    "    porteChevre = random.randint(0,2);\n",
    "    while porteChevre != voiture and porteChevre != choix:\n",
    "        porteChevre = random.randint(0,2)\n",
    "    return 1 if choix == voiture else 0\n",
    "\n",
    "strategie_conserve()"
   ]
  },
  {
   "cell_type": "markdown",
   "id": "b6550859-0f51-49d5-804e-1f72ebf91ccd",
   "metadata": {},
   "source": [
    "2) Écrire une fonction `strategie_change()` qui retourne l’issue aléatoire d’une ex-\n",
    "périence où l’on change la porte choisie à la première étape. Le résultat sera 1 si\n",
    "l’expérience est gagnante et 0 sinon."
   ]
  },
  {
   "cell_type": "code",
   "execution_count": 214,
   "id": "0ef671e6-78ed-4b5a-92de-5f79145c3878",
   "metadata": {},
   "outputs": [
    {
     "data": {
      "text/plain": [
       "1"
      ]
     },
     "execution_count": 214,
     "metadata": {},
     "output_type": "execute_result"
    }
   ],
   "source": [
    "def strategie_change():\n",
    "    portes = [0,1,2]\n",
    "    voiture = random.randint(0,2)\n",
    "    choix = random.randint(0,2)\n",
    "    premierChoix = choix\n",
    "    porteChevre = random.randint(0,2);\n",
    "    while porteChevre == voiture or porteChevre == choix:\n",
    "        porteChevre = random.randint(0,2)\n",
    "    while choix  == porteChevre or choix == premierChoix:\n",
    "        choix = random.randint(0,2)\n",
    "    return 1 if choix == voiture else 0\n",
    "\n",
    "strategie_change()"
   ]
  },
  {
   "cell_type": "markdown",
   "id": "22f315cc-d0ec-4ce8-a7ca-08d3bf13f652",
   "metadata": {},
   "source": [
    "3) Écrire une fonction `frequence_conserve(n)` qui retourne la fréquence de gain\n",
    "pour n réalisation de la stratégie où l’on conserve la porte choisie à la première\n",
    "étape"
   ]
  },
  {
   "cell_type": "code",
   "execution_count": 105,
   "id": "c43c2def-e276-4e2e-b74b-ba1370e88172",
   "metadata": {},
   "outputs": [
    {
     "data": {
      "text/plain": [
       "0.339"
      ]
     },
     "execution_count": 105,
     "metadata": {},
     "output_type": "execute_result"
    }
   ],
   "source": [
    "def frequence_conserve(n):\n",
    "    total = 0\n",
    "    for i in range (n): \n",
    "        if strategie_conserve() == 1:\n",
    "            total += 1\n",
    "    return total/n\n",
    "frequence_conserve(2000)"
   ]
  },
  {
   "cell_type": "markdown",
   "id": "0c385034-f035-4759-a545-a6025f189a37",
   "metadata": {},
   "source": [
    "4) Écrire une fonction `frequence_change(n)` qui retourne la fréquence de gain pour\n",
    "n réalisation de la stratégie où l’on change la porte choisie à la première étape."
   ]
  },
  {
   "cell_type": "code",
   "execution_count": 219,
   "id": "91674d47-109d-40b8-8e8e-5b5415e4393e",
   "metadata": {},
   "outputs": [
    {
     "data": {
      "text/plain": [
       "0.652"
      ]
     },
     "execution_count": 219,
     "metadata": {},
     "output_type": "execute_result"
    }
   ],
   "source": [
    "def frequence_change(n):\n",
    "    total = 0\n",
    "    for i in range (n): \n",
    "        if strategie_change() == 1:\n",
    "            total += 1\n",
    "    return total/n\n",
    "frequence_change(2000)"
   ]
  },
  {
   "cell_type": "markdown",
   "id": "93853311-cbd1-4517-8fff-04c32945eada",
   "metadata": {},
   "source": [
    "5) Comparer les résultats pour un grand nombre n de réalisations de l’expérience avec\n",
    "le résultat obtenu en théorie."
   ]
  },
  {
   "cell_type": "markdown",
   "id": "74a217be-7ec1-4d55-abca-d465175a43ed",
   "metadata": {},
   "source": [
    "On peut observer que dans la situation ou l'on change la probabilité d'avoir la voiture est d'environ 2/3 alors que si l'on reste sur la meme porte la probabilité est de 1/3"
   ]
  },
  {
   "cell_type": "markdown",
   "id": "83ae9fc9-4422-4292-a9de-70df1758152f",
   "metadata": {},
   "source": [
    "## Exercice 3 - Simulation de variable exponentielle"
   ]
  },
  {
   "cell_type": "markdown",
   "id": "20fddfb1-7dad-4844-9b92-a0eefdcd7572",
   "metadata": {},
   "source": [
    "1) Montrer que la fonction de répartition de Y est f , c’est-à-dire que P(Y ≤ x) = f (x)\n",
    "pour tout x ∈ R"
   ]
  },
  {
   "cell_type": "markdown",
   "id": "94aa252f-d8ef-407a-baf5-112cc2bd82ce",
   "metadata": {},
   "source": [
    "$$\n",
    "F_Y(x) = P(Y \\leq x)\n",
    "$$\n",
    "$$\n",
    "= P(F^{-1}(X) \\leq x)\n",
    "$$\n",
    "$$\n",
    "= P(X \\leq F(x))\n",
    "$$\n",
    "</p>\n",
    "<p>(car \\( X \\) suit une loi uniforme sur \\([0,1]\\))</p>\n",
    "<p>\n",
    "$$\n",
    "= F(x)\n",
    "$$"
   ]
  },
  {
   "cell_type": "markdown",
   "id": "43eddc4d-0581-4303-a544-9868e7766f45",
   "metadata": {},
   "source": [
    "2) Si f est la fonction de répartition d’une variable aléatoire exponentielle alors F−1(x) =\n",
    "− ln(x−1)\n",
    "λ pour tout x ∈ [0, 1]."
   ]
  },
  {
   "cell_type": "markdown",
   "id": "4788e68f-7523-4951-9011-640b87dba3d4",
   "metadata": {},
   "source": [
    "3) Écrire la fonction exponentielle(λ)."
   ]
  },
  {
   "cell_type": "code",
   "execution_count": null,
   "id": "19ad79ac-a8ea-4d98-851a-7c2c0253baf0",
   "metadata": {},
   "outputs": [],
   "source": [
    "def exponentielle(L):\n",
    "    "
   ]
  }
 ],
 "metadata": {
  "kernelspec": {
   "display_name": "Python 3 (ipykernel)",
   "language": "python",
   "name": "python3"
  },
  "language_info": {
   "codemirror_mode": {
    "name": "ipython",
    "version": 3
   },
   "file_extension": ".py",
   "mimetype": "text/x-python",
   "name": "python",
   "nbconvert_exporter": "python",
   "pygments_lexer": "ipython3",
   "version": "3.12.3"
  }
 },
 "nbformat": 4,
 "nbformat_minor": 5
}
